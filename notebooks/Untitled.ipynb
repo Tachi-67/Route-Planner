{
 "cells": [
  {
   "cell_type": "code",
   "execution_count": 1,
   "id": "634093c9-a742-4109-be86-76ccc1bb8ebe",
   "metadata": {},
   "outputs": [
    {
     "data": {
      "text/html": [
       "Current session configs: <tt>{'name': 'haolli-final-project', 'executorMemory': '4G', 'executorCores': 4, 'numExecutors': 10, 'conf': {'spark.jars.repositories': 'https://repos.spark-packages.org', 'spark.jars.packages': 'graphframes:graphframes:0.8.2-spark2.4-s_2.11'}, 'kind': 'pyspark'}</tt><br>"
      ],
      "text/plain": [
       "<IPython.core.display.HTML object>"
      ]
     },
     "metadata": {},
     "output_type": "display_data"
    },
    {
     "data": {
      "text/html": [
       "<table>\n",
       "<tr><th>ID</th><th>YARN Application ID</th><th>Kind</th><th>State</th><th>Spark UI</th><th>Driver log</th><th>User</th><th>Current session?</th></tr><tr><td>2634</td><td>application_1680948035106_2467</td><td>pyspark</td><td>idle</td><td><a target=\"_blank\" href=\"http://iccluster044.iccluster.epfl.ch:8088/proxy/application_1680948035106_2467/\">Link</a></td><td><a target=\"_blank\" href=\"http://iccluster063.iccluster.epfl.ch:8042/node/containerlogs/container_e01_1680948035106_2467_01_000001/ebouille\">Link</a></td><td>None</td><td></td></tr><tr><td>2641</td><td>application_1680948035106_2470</td><td>pyspark</td><td>idle</td><td><a target=\"_blank\" href=\"http://iccluster044.iccluster.epfl.ch:8088/proxy/application_1680948035106_2470/\">Link</a></td><td><a target=\"_blank\" href=\"http://iccluster066.iccluster.epfl.ch:8042/node/containerlogs/container_e01_1680948035106_2470_01_000001/ebouille\">Link</a></td><td>None</td><td></td></tr><tr><td>2644</td><td>application_1680948035106_2471</td><td>pyspark</td><td>idle</td><td><a target=\"_blank\" href=\"http://iccluster044.iccluster.epfl.ch:8088/proxy/application_1680948035106_2471/\">Link</a></td><td><a target=\"_blank\" href=\"http://iccluster066.iccluster.epfl.ch:8042/node/containerlogs/container_e01_1680948035106_2471_01_000001/ebouille\">Link</a></td><td>None</td><td></td></tr><tr><td>2650</td><td>application_1680948035106_2477</td><td>pyspark</td><td>idle</td><td><a target=\"_blank\" href=\"http://iccluster044.iccluster.epfl.ch:8088/proxy/application_1680948035106_2477/\">Link</a></td><td><a target=\"_blank\" href=\"http://iccluster063.iccluster.epfl.ch:8042/node/containerlogs/container_e01_1680948035106_2477_01_000001/ebouille\">Link</a></td><td>None</td><td></td></tr><tr><td>2660</td><td>application_1680948035106_2485</td><td>pyspark</td><td>idle</td><td><a target=\"_blank\" href=\"http://iccluster044.iccluster.epfl.ch:8088/proxy/application_1680948035106_2485/\">Link</a></td><td><a target=\"_blank\" href=\"http://iccluster042.iccluster.epfl.ch:8042/node/containerlogs/container_e01_1680948035106_2485_01_000001/ebouille\">Link</a></td><td>None</td><td></td></tr><tr><td>2663</td><td>application_1680948035106_2487</td><td>pyspark</td><td>idle</td><td><a target=\"_blank\" href=\"http://iccluster044.iccluster.epfl.ch:8088/proxy/application_1680948035106_2487/\">Link</a></td><td><a target=\"_blank\" href=\"http://iccluster045.iccluster.epfl.ch:8042/node/containerlogs/container_e01_1680948035106_2487_01_000001/ebouille\">Link</a></td><td>None</td><td></td></tr><tr><td>2667</td><td>application_1680948035106_2490</td><td>pyspark</td><td>idle</td><td><a target=\"_blank\" href=\"http://iccluster044.iccluster.epfl.ch:8088/proxy/application_1680948035106_2490/\">Link</a></td><td><a target=\"_blank\" href=\"http://iccluster063.iccluster.epfl.ch:8042/node/containerlogs/container_e01_1680948035106_2490_01_000001/ebouille\">Link</a></td><td>None</td><td></td></tr><tr><td>2668</td><td>application_1680948035106_2492</td><td>pyspark</td><td>idle</td><td><a target=\"_blank\" href=\"http://iccluster044.iccluster.epfl.ch:8088/proxy/application_1680948035106_2492/\">Link</a></td><td><a target=\"_blank\" href=\"http://iccluster042.iccluster.epfl.ch:8042/node/containerlogs/container_e01_1680948035106_2492_01_000001/ebouille\">Link</a></td><td>None</td><td></td></tr><tr><td>2669</td><td>application_1680948035106_2493</td><td>pyspark</td><td>busy</td><td><a target=\"_blank\" href=\"http://iccluster044.iccluster.epfl.ch:8088/proxy/application_1680948035106_2493/\">Link</a></td><td><a target=\"_blank\" href=\"http://iccluster066.iccluster.epfl.ch:8042/node/containerlogs/container_e01_1680948035106_2493_01_000001/ebouille\">Link</a></td><td>None</td><td></td></tr><tr><td>2671</td><td>application_1680948035106_2495</td><td>pyspark</td><td>idle</td><td><a target=\"_blank\" href=\"http://iccluster044.iccluster.epfl.ch:8088/proxy/application_1680948035106_2495/\">Link</a></td><td><a target=\"_blank\" href=\"http://iccluster063.iccluster.epfl.ch:8042/node/containerlogs/container_e01_1680948035106_2495_01_000001/ebouille\">Link</a></td><td>None</td><td></td></tr><tr><td>2672</td><td>application_1680948035106_2496</td><td>pyspark</td><td>busy</td><td><a target=\"_blank\" href=\"http://iccluster044.iccluster.epfl.ch:8088/proxy/application_1680948035106_2496/\">Link</a></td><td><a target=\"_blank\" href=\"http://iccluster056.iccluster.epfl.ch:8042/node/containerlogs/container_e01_1680948035106_2496_01_000001/ebouille\">Link</a></td><td>None</td><td></td></tr></table>"
      ],
      "text/plain": [
       "<IPython.core.display.HTML object>"
      ]
     },
     "metadata": {},
     "output_type": "display_data"
    }
   ],
   "source": [
    "%%local\n",
    "import os\n",
    "import json\n",
    "from IPython import get_ipython\n",
    "\n",
    "username = os.environ['RENKU_USERNAME']\n",
    "\n",
    "configuration = dict(\n",
    "    name = f\"{username}-final-project\",\n",
    "    executorMemory = \"4G\",\n",
    "    executorCores = 4,\n",
    "    numExecutors = 10,\n",
    "    conf = {\n",
    "        # \"spark.pyspark.python\": \"/opt/anaconda3/bin/python3\", # Use python3\n",
    "        \"spark.jars.repositories\": \"https://repos.spark-packages.org\",\n",
    "        \"spark.jars.packages\": \"graphframes:graphframes:0.8.2-spark2.4-s_2.11\"\n",
    "    }\n",
    ")\n",
    "\n",
    "\n",
    "get_ipython().run_cell_magic('configure', line=\"-f\", \n",
    "                             cell=json.dumps(configuration))"
   ]
  },
  {
   "cell_type": "code",
   "execution_count": 2,
   "id": "9e352478-e117-4c85-8b1b-c102ba02a136",
   "metadata": {},
   "outputs": [
    {
     "name": "stdout",
     "output_type": "stream",
     "text": [
      "Starting Spark application\n"
     ]
    },
    {
     "data": {
      "text/html": [
       "<table>\n",
       "<tr><th>ID</th><th>YARN Application ID</th><th>Kind</th><th>State</th><th>Spark UI</th><th>Driver log</th><th>User</th><th>Current session?</th></tr><tr><td>2673</td><td>application_1680948035106_2497</td><td>pyspark</td><td>idle</td><td><a target=\"_blank\" href=\"http://iccluster044.iccluster.epfl.ch:8088/proxy/application_1680948035106_2497/\">Link</a></td><td><a target=\"_blank\" href=\"http://iccluster054.iccluster.epfl.ch:8042/node/containerlogs/container_e01_1680948035106_2497_01_000001/ebouille\">Link</a></td><td>None</td><td>✔</td></tr></table>"
      ],
      "text/plain": [
       "<IPython.core.display.HTML object>"
      ]
     },
     "metadata": {},
     "output_type": "display_data"
    },
    {
     "data": {
      "application/vnd.jupyter.widget-view+json": {
       "model_id": "",
       "version_major": 2,
       "version_minor": 0
      },
      "text/plain": [
       "FloatProgress(value=0.0, bar_style='info', description='Progress:', layout=Layout(height='25px', width='50%'),…"
      ]
     },
     "metadata": {},
     "output_type": "display_data"
    },
    {
     "name": "stdout",
     "output_type": "stream",
     "text": [
      "SparkSession available as 'spark'.\n"
     ]
    },
    {
     "data": {
      "application/vnd.jupyter.widget-view+json": {
       "model_id": "",
       "version_major": 2,
       "version_minor": 0
      },
      "text/plain": [
       "FloatProgress(value=0.0, bar_style='info', description='Progress:', layout=Layout(height='25px', width='50%'),…"
      ]
     },
     "metadata": {},
     "output_type": "display_data"
    },
    {
     "name": "stdout",
     "output_type": "stream",
     "text": [
      "<pyspark.sql.session.SparkSession object at 0x7ffa34216fd0>"
     ]
    }
   ],
   "source": [
    "spark"
   ]
  },
  {
   "cell_type": "code",
   "execution_count": 5,
   "id": "9432b7a2-eaec-4f01-8eaa-808efe79ae3f",
   "metadata": {},
   "outputs": [
    {
     "data": {
      "application/vnd.jupyter.widget-view+json": {
       "model_id": "",
       "version_major": 2,
       "version_minor": 0
      },
      "text/plain": [
       "FloatProgress(value=0.0, bar_style='info', description='Progress:', layout=Layout(height='25px', width='50%'),…"
      ]
     },
     "metadata": {},
     "output_type": "display_data"
    }
   ],
   "source": [
    "# load data from hdfs under /data/sbb/csv/timetable/*/2019/05/07, where * can be calendar, routes, stop_times and trips\n",
    "file_path_timetable = \"/data/sbb/part_orc/timetables/\"\n",
    "\n",
    "stop_times = spark.read.orc(file_path_timetable + \"stop_times\")\n",
    "\n",
    "trips = spark.read.orc(file_path_timetable + \"trips\")\n",
    "\n",
    "routes = spark.read.orc(file_path_timetable + \"routes\")\n",
    "\n",
    "calendar = spark.read.orc(file_path_timetable + \"calendar\")\n",
    "\n",
    "stops = spark.read.orc(file_path_timetable + \"stops\")"
   ]
  },
  {
   "cell_type": "code",
   "execution_count": 9,
   "id": "daa6f96b-27ed-42d3-808c-7f5d2091567c",
   "metadata": {},
   "outputs": [
    {
     "data": {
      "application/vnd.jupyter.widget-view+json": {
       "model_id": "",
       "version_major": 2,
       "version_minor": 0
      },
      "text/plain": [
       "FloatProgress(value=0.0, bar_style='info', description='Progress:', layout=Layout(height='25px', width='50%'),…"
      ]
     },
     "metadata": {},
     "output_type": "display_data"
    },
    {
     "name": "stdout",
     "output_type": "stream",
     "text": [
      "root\n",
      " |-- date_of_trip: string (nullable = true)\n",
      " |-- trip_id: string (nullable = true)\n",
      " |-- operator_id: string (nullable = true)\n",
      " |-- operator_abk: string (nullable = true)\n",
      " |-- operator_name: string (nullable = true)\n",
      " |-- transport_type: string (nullable = true)\n",
      " |-- train_number(train): string (nullable = true)\n",
      " |-- service type(train): string (nullable = true)\n",
      " |-- circulation_id: string (nullable = true)\n",
      " |-- means_of_transport_text: string (nullable = true)\n",
      " |-- if_additional: string (nullable = true)\n",
      " |-- if_failed: string (nullable = true)\n",
      " |-- stop_id: string (nullable = true)\n",
      " |-- stop_name: string (nullable = true)\n",
      " |-- arrival_time: string (nullable = true)\n",
      " |-- actual_arrival_time: string (nullable = true)\n",
      " |-- an_prognose_status: string (nullable = true)\n",
      " |-- departure_time: string (nullable = true)\n",
      " |-- actual_departure_time: string (nullable = true)\n",
      " |-- ab_prognose_status: string (nullable = true)\n",
      " |-- not_stop: string (nullable = true)\n",
      " |-- year: integer (nullable = true)\n",
      " |-- month: integer (nullable = true)\n",
      "\n",
      "+------------+--------------+-----------+------------+--------------------+--------------+-------------------+-------------------+--------------+-----------------------+-------------+---------+-------+--------------------+----------------+-------------------+------------------+----------------+---------------------+------------------+--------+----+-----+\n",
      "|date_of_trip|       trip_id|operator_id|operator_abk|       operator_name|transport_type|train_number(train)|service type(train)|circulation_id|means_of_transport_text|if_additional|if_failed|stop_id|           stop_name|    arrival_time|actual_arrival_time|an_prognose_status|  departure_time|actual_departure_time|ab_prognose_status|not_stop|year|month|\n",
      "+------------+--------------+-----------+------------+--------------------+--------------+-------------------+-------------------+--------------+-----------------------+-------------+---------+-------+--------------------+----------------+-------------------+------------------+----------------+---------------------+------------------+--------+----+-----+\n",
      "|  13.02.2019|85:886:50902-0|     85:886|        RVBW|Regionale Verkehr...|           Bus|           85:886:4|                  4|              |                    NFB|        false|    false|8572581|Baden, Kantonsschule|13.02.2019 18:55|13.02.2019 18:56:22|              REAL|13.02.2019 18:55|  13.02.2019 18:56:32|              REAL|   false|2019|    2|\n",
      "|  13.02.2019|85:886:50902-0|     85:886|        RVBW|Regionale Verkehr...|           Bus|           85:886:4|                  4|              |                    NFB|        false|    false|8580638|        Baden, Stein|13.02.2019 18:59|13.02.2019 18:59:57|              REAL|13.02.2019 18:59|  13.02.2019 18:59:57|              REAL|   false|2019|    2|\n",
      "|  13.02.2019|85:886:50902-0|     85:886|        RVBW|Regionale Verkehr...|           Bus|           85:886:4|                  4|              |                    NFB|        false|    false|8578914| Baden, Bahnhof West|13.02.2019 19:01|13.02.2019 19:01:23|              REAL|13.02.2019 19:04|  13.02.2019 19:04:24|              REAL|   false|2019|    2|\n",
      "|  13.02.2019|85:886:50902-0|     85:886|        RVBW|Regionale Verkehr...|           Bus|           85:886:4|                  4|              |                    NFB|        false|    false|8590197|        Baden, Trafo|13.02.2019 19:05|13.02.2019 19:05:24|              REAL|13.02.2019 19:05|  13.02.2019 19:05:46|              REAL|   false|2019|    2|\n",
      "|  13.02.2019|85:886:50902-0|     85:886|        RVBW|Regionale Verkehr...|           Bus|           85:886:4|                  4|              |                    NFB|        false|    false|8578668|Baden, Bruggerstr...|13.02.2019 19:06|13.02.2019 19:07:36|              REAL|13.02.2019 19:06|  13.02.2019 19:07:36|              REAL|   false|2019|    2|\n",
      "+------------+--------------+-----------+------------+--------------------+--------------+-------------------+-------------------+--------------+-----------------------+-------------+---------+-------+--------------------+----------------+-------------------+------------------+----------------+---------------------+------------------+--------+----+-----+\n",
      "only showing top 5 rows"
     ]
    }
   ],
   "source": [
    "actual = spark.read.load(\"/data/sbb/part_orc/istdaten\",\n",
    "                     format=\"orc\", sep=\";\", inferSchema=\"true\", header=\"true\")\n",
    "\n",
    "actual = actual.withColumnRenamed(\"betriebstag\", \"date_of_trip\")\\\n",
    "                .withColumnRenamed(\"fahrt_bezeichner\", \"trip_id\")\\\n",
    "                .withColumnRenamed(\"betreiber_id\", \"operator_id\")\\\n",
    "                .withColumnRenamed(\"betreiber_abk\", \"operator_abk\")\\\n",
    "                .withColumnRenamed(\"betreiber_name\", \"operator_name\")\\\n",
    "                .withColumnRenamed(\"produkt_id\", \"transport_type\")\\\n",
    "                .withColumnRenamed(\"linien_id\", \"train_number(train)\")\\\n",
    "                .withColumnRenamed(\"linien_text\", \"service type(train)\")\\\n",
    "                .withColumnRenamed(\"umlauf_id\", \"circulation_id\")\\\n",
    "                .withColumnRenamed(\"verkehrsmittel_text\", \"means_of_transport_text\")\\\n",
    "                .withColumnRenamed(\"zusatzfahrt_tf\", \"if_additional\")\\\n",
    "                .withColumnRenamed(\"faellt_aus_tf\", \"if_failed\")\\\n",
    "                .withColumnRenamed(\"bpuic\", \"stop_id\")\\\n",
    "                .withColumnRenamed(\"haltestellen_name\", \"stop_name\")\\\n",
    "                .withColumnRenamed(\"ankunftszeit\", \"arrival_time\")\\\n",
    "                .withColumnRenamed(\"an_prognose\", \"actual_arrival_time\")\\\n",
    "                .withColumnRenamed(\"abfahrtszeit\", \"departure_time\")\\\n",
    "                .withColumnRenamed(\"ab_prognose\", \"actual_departure_time\")\\\n",
    "                .withColumnRenamed(\"durchfahrt_tf\", \"not_stop\")\n",
    "actual.printSchema()\n",
    "actual.show(5)"
   ]
  },
  {
   "cell_type": "code",
   "execution_count": null,
   "id": "7f242806-2651-404e-9889-5dfeaa5a06b2",
   "metadata": {},
   "outputs": [],
   "source": []
  }
 ],
 "metadata": {
  "kernelspec": {
   "display_name": "PySpark",
   "language": "python",
   "name": "pysparkkernel"
  },
  "language_info": {
   "codemirror_mode": {
    "name": "python",
    "version": 3
   },
   "file_extension": ".py",
   "mimetype": "text/x-python",
   "name": "pyspark",
   "pygments_lexer": "python3"
  }
 },
 "nbformat": 4,
 "nbformat_minor": 5
}

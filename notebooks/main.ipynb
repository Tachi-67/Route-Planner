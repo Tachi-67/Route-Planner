{
 "cells": [
  {
   "cell_type": "code",
   "execution_count": 1,
   "id": "53caff7c-0de2-4e15-8fb8-c2340bbe98df",
   "metadata": {},
   "outputs": [
    {
     "data": {
      "text/html": [
       "Current session configs: <tt>{'name': 'yulu-final-project', 'executorMemory': '4G', 'executorCores': 4, 'numExecutors': 10, 'conf': {'spark.jars.repositories': 'https://repos.spark-packages.org', 'spark.jars.packages': 'graphframes:graphframes:0.8.2-spark2.4-s_2.11'}, 'kind': 'pyspark'}</tt><br>"
      ],
      "text/plain": [
       "<IPython.core.display.HTML object>"
      ]
     },
     "metadata": {},
     "output_type": "display_data"
    },
    {
     "data": {
      "text/html": [
       "<table>\n",
       "<tr><th>ID</th><th>YARN Application ID</th><th>Kind</th><th>State</th><th>Spark UI</th><th>Driver log</th><th>User</th><th>Current session?</th></tr><tr><td>2876</td><td>application_1680948035106_2698</td><td>pyspark</td><td>idle</td><td><a target=\"_blank\" href=\"http://iccluster044.iccluster.epfl.ch:8088/proxy/application_1680948035106_2698/\">Link</a></td><td><a target=\"_blank\" href=\"http://iccluster042.iccluster.epfl.ch:8042/node/containerlogs/container_e01_1680948035106_2698_01_000001/ebouille\">Link</a></td><td>None</td><td></td></tr><tr><td>2877</td><td>application_1680948035106_2699</td><td>pyspark</td><td>idle</td><td><a target=\"_blank\" href=\"http://iccluster044.iccluster.epfl.ch:8088/proxy/application_1680948035106_2699/\">Link</a></td><td><a target=\"_blank\" href=\"http://iccluster067.iccluster.epfl.ch:8042/node/containerlogs/container_e01_1680948035106_2699_01_000001/ebouille\">Link</a></td><td>None</td><td></td></tr><tr><td>2878</td><td>application_1680948035106_2700</td><td>pyspark</td><td>idle</td><td><a target=\"_blank\" href=\"http://iccluster044.iccluster.epfl.ch:8088/proxy/application_1680948035106_2700/\">Link</a></td><td><a target=\"_blank\" href=\"http://iccluster066.iccluster.epfl.ch:8042/node/containerlogs/container_e01_1680948035106_2700_01_000001/ebouille\">Link</a></td><td>None</td><td></td></tr><tr><td>2880</td><td>application_1680948035106_2701</td><td>pyspark</td><td>idle</td><td><a target=\"_blank\" href=\"http://iccluster044.iccluster.epfl.ch:8088/proxy/application_1680948035106_2701/\">Link</a></td><td><a target=\"_blank\" href=\"http://iccluster061.iccluster.epfl.ch:8042/node/containerlogs/container_e01_1680948035106_2701_01_000001/ebouille\">Link</a></td><td>None</td><td></td></tr></table>"
      ],
      "text/plain": [
       "<IPython.core.display.HTML object>"
      ]
     },
     "metadata": {},
     "output_type": "display_data"
    }
   ],
   "source": [
    "%%local\n",
    "import os\n",
    "import json\n",
    "from IPython import get_ipython\n",
    "\n",
    "username = os.environ['RENKU_USERNAME']\n",
    "\n",
    "configuration = dict(\n",
    "    name = f\"{username}-final-project\",\n",
    "    executorMemory = \"4G\",\n",
    "    executorCores = 4,\n",
    "    numExecutors = 10,\n",
    "    conf = {\n",
    "        \n",
    "        \"spark.jars.repositories\": \"https://repos.spark-packages.org\",\n",
    "        \"spark.jars.packages\": \"graphframes:graphframes:0.8.2-spark2.4-s_2.11\"\n",
    "    }\n",
    ")\n",
    "\n",
    "\n",
    "get_ipython().run_cell_magic('configure', line=\"-f\", \n",
    "                             cell=json.dumps(configuration))"
   ]
  },
  {
   "cell_type": "code",
   "execution_count": 2,
   "id": "f7dd6dd8-6264-4849-bfab-89ede4b64a8a",
   "metadata": {},
   "outputs": [
    {
     "name": "stdout",
     "output_type": "stream",
     "text": [
      "Starting Spark application\n"
     ]
    },
    {
     "data": {
      "text/html": [
       "<table>\n",
       "<tr><th>ID</th><th>YARN Application ID</th><th>Kind</th><th>State</th><th>Spark UI</th><th>Driver log</th><th>User</th><th>Current session?</th></tr><tr><td>2881</td><td>application_1680948035106_2702</td><td>pyspark</td><td>idle</td><td><a target=\"_blank\" href=\"http://iccluster044.iccluster.epfl.ch:8088/proxy/application_1680948035106_2702/\">Link</a></td><td><a target=\"_blank\" href=\"http://iccluster042.iccluster.epfl.ch:8042/node/containerlogs/container_e01_1680948035106_2702_01_000001/ebouille\">Link</a></td><td>None</td><td>✔</td></tr></table>"
      ],
      "text/plain": [
       "<IPython.core.display.HTML object>"
      ]
     },
     "metadata": {},
     "output_type": "display_data"
    },
    {
     "data": {
      "application/vnd.jupyter.widget-view+json": {
       "model_id": "",
       "version_major": 2,
       "version_minor": 0
      },
      "text/plain": [
       "FloatProgress(value=0.0, bar_style='info', description='Progress:', layout=Layout(height='25px', width='50%'),…"
      ]
     },
     "metadata": {},
     "output_type": "display_data"
    },
    {
     "name": "stdout",
     "output_type": "stream",
     "text": [
      "SparkSession available as 'spark'.\n"
     ]
    },
    {
     "data": {
      "application/vnd.jupyter.widget-view+json": {
       "model_id": "",
       "version_major": 2,
       "version_minor": 0
      },
      "text/plain": [
       "FloatProgress(value=0.0, bar_style='info', description='Progress:', layout=Layout(height='25px', width='50%'),…"
      ]
     },
     "metadata": {},
     "output_type": "display_data"
    }
   ],
   "source": [
    "%spark"
   ]
  },
  {
   "cell_type": "code",
   "execution_count": 3,
   "id": "440d7004-dce0-42df-ac6f-ba31a2020e79",
   "metadata": {},
   "outputs": [
    {
     "data": {
      "application/vnd.jupyter.widget-view+json": {
       "model_id": "",
       "version_major": 2,
       "version_minor": 0
      },
      "text/plain": [
       "FloatProgress(value=0.0, bar_style='info', description='Progress:', layout=Layout(height='25px', width='50%'),…"
      ]
     },
     "metadata": {},
     "output_type": "display_data"
    },
    {
     "name": "stdout",
     "output_type": "stream",
     "text": [
      "Successfully passed 'username' as 'username' to Spark kernel"
     ]
    }
   ],
   "source": [
    "%%send_to_spark -i username -t str -n username"
   ]
  },
  {
   "cell_type": "code",
   "execution_count": 4,
   "id": "f05bfe59-c24e-47fd-bc22-602f80341b5d",
   "metadata": {},
   "outputs": [
    {
     "data": {
      "application/vnd.jupyter.widget-view+json": {
       "model_id": "",
       "version_major": 2,
       "version_minor": 0
      },
      "text/plain": [
       "FloatProgress(value=0.0, bar_style='info', description='Progress:', layout=Layout(height='25px', width='50%'),…"
      ]
     },
     "metadata": {},
     "output_type": "display_data"
    },
    {
     "name": "stdout",
     "output_type": "stream",
     "text": [
      "We are using Spark 2.4.8.7.1.8.0-801"
     ]
    }
   ],
   "source": [
    "print('We are using Spark %s' % spark.version)"
   ]
  },
  {
   "cell_type": "markdown",
   "id": "9f1b97e1-38aa-4cb3-b895-9a215eb2a593",
   "metadata": {},
   "source": [
    "#Load data\n",
    "\n",
    "First, run \"hdfs dfs -ls /data/sbb/part_orc/timetables\" in the terminal and then "
   ]
  },
  {
   "cell_type": "code",
   "execution_count": 24,
   "id": "a0606136-cdb8-4d34-951f-c995f888380a",
   "metadata": {},
   "outputs": [
    {
     "data": {
      "application/vnd.jupyter.widget-view+json": {
       "model_id": "",
       "version_major": 2,
       "version_minor": 0
      },
      "text/plain": [
       "FloatProgress(value=0.0, bar_style='info', description='Progress:', layout=Layout(height='25px', width='50%'),…"
      ]
     },
     "metadata": {},
     "output_type": "display_data"
    }
   ],
   "source": [
    "orc_file_path = \"/data/sbb/part_orc/timetables\"\n",
    "\n",
    "stops = spark.read.orc(orc_file_path + \"/stops\")\n",
    "stop_times = spark.read.orc(orc_file_path + \"/stop_times\")\n",
    "calendar = spark.read.orc(orc_file_path + \"/calendar\")\n",
    "routes = spark.read.orc(orc_file_path + \"/routes\")\n",
    "trips = spark.read.orc(orc_file_path + \"/trips\")"
   ]
  },
  {
   "cell_type": "code",
   "execution_count": 26,
   "id": "3b64ff79-d0d9-422a-afda-8e43bb73f1fc",
   "metadata": {},
   "outputs": [
    {
     "data": {
      "application/vnd.jupyter.widget-view+json": {
       "model_id": "",
       "version_major": 2,
       "version_minor": 0
      },
      "text/plain": [
       "FloatProgress(value=0.0, bar_style='info', description='Progress:', layout=Layout(height='25px', width='50%'),…"
      ]
     },
     "metadata": {},
     "output_type": "display_data"
    }
   ],
   "source": [
    "csv_file_path = \"/data/sbb/part_csv/timetables\"\n",
    "stops_csv = spark.read.csv(csv_file_path + \"/stops\", header = True)"
   ]
  },
  {
   "cell_type": "code",
   "execution_count": 27,
   "id": "cbc19bc6-8671-4a2f-ac53-85d10473e692",
   "metadata": {},
   "outputs": [
    {
     "data": {
      "application/vnd.jupyter.widget-view+json": {
       "model_id": "",
       "version_major": 2,
       "version_minor": 0
      },
      "text/plain": [
       "FloatProgress(value=0.0, bar_style='info', description='Progress:', layout=Layout(height='25px', width='50%'),…"
      ]
     },
     "metadata": {},
     "output_type": "display_data"
    },
    {
     "name": "stdout",
     "output_type": "stream",
     "text": [
      "+-------+--------------------+----------------+----------------+-------------+--------------+----+-----+---+\n",
      "|stop_id|           stop_name|        stop_lat|        stop_lon|location_type|parent_station|year|month|day|\n",
      "+-------+--------------------+----------------+----------------+-------------+--------------+----+-----+---+\n",
      "|1100008|Zell (Wiesental),...|47.7100842702352|7.85964788274668|         null|          null|2022|   12|  7|\n",
      "|1100009|Zell (Wiesental),...|47.7131911044794|7.86290876722849|         null|          null|2022|   12|  7|\n",
      "|1100010|           Atzenbach|47.7146175266411| 7.8723500608659|         null|          null|2022|   12|  7|\n",
      "|1100011|     Mambach, Brücke|47.7282088873189| 7.8774704579861|         null|          null|2022|   12|  7|\n",
      "|1100012|  Mambach, Mühlschau|47.7340818684375| 7.8813871126254|         null|          null|2022|   12|  7|\n",
      "|1100013|  Mambach, Silbersau|47.7395192233867|7.88223152899259|         null|          null|2022|   12|  7|\n",
      "|1100014|Fröhnd (Schwarzw)...|47.7543663509316|7.88913059037559|         null|          null|2022|   12|  7|\n",
      "|1100015|Fröhnd (Schwarzw)...|47.7605926689054|7.88553732923861|         null|          null|2022|   12|  7|\n",
      "|1100016|     Wembach (Baden)|47.7728317637339|7.88772023537933|         null|          null|2022|   12|  7|\n",
      "|1100017|Schönau (Schw), B...|47.7774561479519|7.89219384549486|         null|          null|2022|   12|  7|\n",
      "|1100018|Schönau (Schw), Z...| 47.786208751796|7.89383776246503|         null|          null|2022|   12|  7|\n",
      "|1100019|Schönau (Schw), F...|47.7896429916744|7.89809577691235|         null|          null|2022|   12|  7|\n",
      "|1100020|Schönau (Schw), S...|47.7936261842555|7.90221904406703|         null|          null|2022|   12|  7|\n",
      "|1100021|  Aitern, Abzweigung|47.7983935436501|7.90542602963179|         null|          null|2022|   12|  7|\n",
      "|1100022|Utzenfeld, Reiterhof|47.7995943664784|7.90894742554602|         null|          null|2022|   12|  7|\n",
      "|1100023|    Utzenfeld, Wiese|47.8015132116772|7.91649327393368|         null|          null|2022|   12|  7|\n",
      "|1100024|    Utzenfeld, Engel|47.8024303705115| 7.9218741824863|         null|          null|2022|   12|  7|\n",
      "|1100025|Geschwend (Baden)...|47.8038905505064|7.93667841837065|         null|          null|2022|   12|  7|\n",
      "|1100026|Geschwend (Baden)...|47.8061350446744|7.93714554231846|         null|          null|2022|   12|  7|\n",
      "|1100027|         Schlechtnau|47.8182246834617| 7.9391218359438|         null|          null|2022|   12|  7|\n",
      "+-------+--------------------+----------------+----------------+-------------+--------------+----+-----+---+\n",
      "only showing top 20 rows"
     ]
    }
   ],
   "source": [
    "stops_csv.show()"
   ]
  },
  {
   "cell_type": "code",
   "execution_count": 31,
   "id": "7096c40a-bc45-455f-8257-e3ed268702aa",
   "metadata": {},
   "outputs": [
    {
     "data": {
      "application/vnd.jupyter.widget-view+json": {
       "model_id": "",
       "version_major": 2,
       "version_minor": 0
      },
      "text/plain": [
       "FloatProgress(value=0.0, bar_style='info', description='Progress:', layout=Layout(height='25px', width='50%'),…"
      ]
     },
     "metadata": {},
     "output_type": "display_data"
    },
    {
     "name": "stdout",
     "output_type": "stream",
     "text": [
      "+-------+--------------------+--------+--------+-------------+--------------+----+-----+---+\n",
      "|stop_id|           stop_name|stop_lat|stop_lon|location_type|parent_station|year|month|day|\n",
      "+-------+--------------------+--------+--------+-------------+--------------+----+-----+---+\n",
      "|8799803|Annecy, gare rout...|      46|       6|             |              |2021|    8| 18|\n",
      "|1100008|Zell (Wiesental),...|      48|       8|             |              |2021|    8| 18|\n",
      "|1100009|Zell (Wiesental),...|      48|       8|             |              |2021|    8| 18|\n",
      "|1100010|           Atzenbach|      48|       8|             |              |2021|    8| 18|\n",
      "|1100011|     Mambach, Brücke|      48|       8|             |              |2021|    8| 18|\n",
      "|1100012|  Mambach, Mühlschau|      48|       8|             |              |2021|    8| 18|\n",
      "|1100013|  Mambach, Silbersau|      48|       8|             |              |2021|    8| 18|\n",
      "|1100014|       Fröhnd, Wühre|      48|       8|             |              |2021|    8| 18|\n",
      "|1100015| Fröhnd, Unterkastel|      48|       8|             |              |2021|    8| 18|\n",
      "|1100016|             Wembach|      48|       8|             |              |2021|    8| 18|\n",
      "|1100017|Schönau(Schw), Brand|      48|       8|             |              |2021|    8| 18|\n",
      "|1100018|Schönau(Schw), Sp...|      48|       8|             |              |2021|    8| 18|\n",
      "|1100019|Schönau(Schw), Fr...|      48|       8|             |              |2021|    8| 18|\n",
      "|1100020|Schönau(Schw), Sc...|      48|       8|             |              |2021|    8| 18|\n",
      "|1100021|       Aitern, Abzw.|      48|       8|             |              |2021|    8| 18|\n",
      "|1100022|Utzenfeld, Reiterhof|      48|       8|             |              |2021|    8| 18|\n",
      "|1100023|    Utzenfeld, Wiese|      48|       8|             |              |2021|    8| 18|\n",
      "|1100024|    Utzenfeld, Engel|      48|       8|             |              |2021|    8| 18|\n",
      "|1100025|Geschwend, Mättle...|      48|       8|             |              |2021|    8| 18|\n",
      "|1100026|Geschwend, Unterdorf|      48|       8|             |              |2021|    8| 18|\n",
      "+-------+--------------------+--------+--------+-------------+--------------+----+-----+---+\n",
      "only showing top 20 rows"
     ]
    }
   ],
   "source": [
    "stops.show() #We can see the orc_file is not precise in showing stop_lat and stop_lon, so we chose the csv files. Other files are read in orc."
   ]
  },
  {
   "cell_type": "code",
   "execution_count": 7,
   "id": "99f15fa2-6b55-4316-a33a-77e2959a6875",
   "metadata": {},
   "outputs": [
    {
     "data": {
      "application/vnd.jupyter.widget-view+json": {
       "model_id": "",
       "version_major": 2,
       "version_minor": 0
      },
      "text/plain": [
       "FloatProgress(value=0.0, bar_style='info', description='Progress:', layout=Layout(height='25px', width='50%'),…"
      ]
     },
     "metadata": {},
     "output_type": "display_data"
    },
    {
     "name": "stdout",
     "output_type": "stream",
     "text": [
      "+--------------------+------------+--------------+-----------+-------------+-----------+-------------+----+-----+---+\n",
      "|             trip_id|arrival_time|departure_time|    stop_id|stop_sequence|pickup_type|drop_off_type|year|month|day|\n",
      "+--------------------+------------+--------------+-----------+-------------+-----------+-------------+----+-----+---+\n",
      "|231.TA.91-9-F-j22...|    06:58:00|      06:58:00|8506206:0:4|            7|          0|            0|2022|   12|  7|\n",
      "|7041.TA.91-10-A-j...|    19:26:00|      19:26:00|    8500994|           20|          0|            0|2022|   12|  7|\n",
      "|232.TA.91-9-F-j22...|    08:35:00|      08:35:00|8506200:0:5|            1|          0|            0|2022|   12|  7|\n",
      "|7041.TA.91-10-A-j...|    19:27:00|      19:27:00|    8500079|           21|          0|            0|2022|   12|  7|\n",
      "|232.TA.91-9-F-j22...|    08:37:00|      08:37:00|8506201:0:1|            2|          0|            0|2022|   12|  7|\n",
      "|7041.TA.91-10-A-j...|    19:29:00|      19:29:00|    8588783|           22|          0|            0|2022|   12|  7|\n",
      "|232.TA.91-9-F-j22...|    08:41:00|      08:41:00|8506202:0:1|            3|          0|            0|2022|   12|  7|\n",
      "|7041.TA.91-10-A-j...|    19:30:00|      19:30:00|    8500071|           23|          0|            0|2022|   12|  7|\n",
      "|232.TA.91-9-F-j22...|    08:44:00|      08:44:00|8506203:0:2|            4|          0|            0|2022|   12|  7|\n",
      "|7041.TA.91-10-A-j...|    19:31:00|      19:31:00|    8588784|           24|          0|            0|2022|   12|  7|\n",
      "|232.TA.91-9-F-j22...|    08:47:00|      08:47:00|8506204:0:1|            5|          0|            0|2022|   12|  7|\n",
      "|7041.TA.91-10-A-j...|    19:32:00|      19:32:00|    8500060|           25|          0|            0|2022|   12|  7|\n",
      "|232.TA.91-9-F-j22...|    08:51:00|      08:51:00|8506205:0:1|            6|          0|            0|2022|   12|  7|\n",
      "|7041.TA.91-10-A-j...|    19:34:00|      19:34:00|    8500061|           26|          0|            0|2022|   12|  7|\n",
      "|232.TA.91-9-F-j22...|    08:58:00|      08:58:00|8506206:0:4|            7|          0|            0|2022|   12|  7|\n",
      "|7041.TA.91-10-A-j...|    19:35:00|      19:35:00|    8578176|           27|          0|            0|2022|   12|  7|\n",
      "|233.TA.91-9-F-j22...|    22:35:00|      22:35:00|8506200:0:5|            1|          0|            0|2022|   12|  7|\n",
      "|7041.TA.91-10-A-j...|    19:36:00|      19:36:00|    8500062|           28|          0|            0|2022|   12|  7|\n",
      "|233.TA.91-9-F-j22...|    22:37:00|      22:37:00|8506201:0:1|            2|          0|            0|2022|   12|  7|\n",
      "|7041.TA.91-10-A-j...|    19:38:00|      19:38:00|    8588790|           29|          0|            0|2022|   12|  7|\n",
      "+--------------------+------------+--------------+-----------+-------------+-----------+-------------+----+-----+---+\n",
      "only showing top 20 rows"
     ]
    }
   ],
   "source": [
    "stop_times.show()"
   ]
  },
  {
   "cell_type": "code",
   "execution_count": 8,
   "id": "0f08535b-33ac-40b9-8983-93f7dd5d4cfe",
   "metadata": {},
   "outputs": [
    {
     "data": {
      "application/vnd.jupyter.widget-view+json": {
       "model_id": "",
       "version_major": 2,
       "version_minor": 0
      },
      "text/plain": [
       "FloatProgress(value=0.0, bar_style='info', description='Progress:', layout=Layout(height='25px', width='50%'),…"
      ]
     },
     "metadata": {},
     "output_type": "display_data"
    },
    {
     "name": "stdout",
     "output_type": "stream",
     "text": [
      "+-------------+----------+--------------------+--------------------+---------------+------------+----+-----+---+\n",
      "|     route_id|service_id|             trip_id|       trip_headsign|trip_short_name|direction_id|year|month|day|\n",
      "+-------------+----------+--------------------+--------------------+---------------+------------+----+-----+---+\n",
      "|91-10-A-j22-1|  TA+8i000|1.TA.91-10-A-j22-...|Oberwil BL, Hüsli...|          51125|           0|2022|   12|  7|\n",
      "|91-10-A-j22-1|     TA+6V|10.TA.91-10-A-j22...|Oberwil BL, Hüsli...|          20605|           0|2022|   12|  7|\n",
      "|91-10-A-j22-1|  TA+f6n00|100.TA.91-10-A-j2...|Oberwil BL, Hüsli...|          22991|           0|2022|   12|  7|\n",
      "|91-10-A-j22-1|     TA+rV|1000.TA.91-10-A-j...|    Dornach, Bahnhof|          51153|           0|2022|   12|  7|\n",
      "|91-10-A-j22-1|     TA+rV|1001.TA.91-10-A-j...|    Dornach, Bahnhof|          51061|           0|2022|   12|  7|\n",
      "|91-10-A-j22-1|     TA+rV|1002.TA.91-10-A-j...|    Dornach, Bahnhof|          50967|           0|2022|   12|  7|\n",
      "|91-10-A-j22-1|     TA+rV|1003.TA.91-10-A-j...|    Dornach, Bahnhof|          50987|           0|2022|   12|  7|\n",
      "|91-10-A-j22-1|     TA+rV|1004.TA.91-10-A-j...|    Dornach, Bahnhof|          51081|           0|2022|   12|  7|\n",
      "|91-10-A-j22-1|     TA+rV|1005.TA.91-10-A-j...|    Dornach, Bahnhof|          50923|           0|2022|   12|  7|\n",
      "|91-10-A-j22-1|     TA+rV|1006.TA.91-10-A-j...|    Dornach, Bahnhof|          51127|           0|2022|   12|  7|\n",
      "|91-10-A-j22-1|     TA+kL|1007.TA.91-10-A-j...|    Dornach, Bahnhof|          50627|           0|2022|   12|  7|\n",
      "|91-10-A-j22-1|  TA+b5980|1008.TA.91-10-A-j...|    Basel, Dreispitz|          20937|           0|2022|   12|  7|\n",
      "|91-10-A-j22-1|  TA+pdka0|1009.TA.91-10-A-j...|    Basel, Dreispitz|          24565|           0|2022|   12|  7|\n",
      "|91-10-A-j22-1|  TA+f6n00|101.TA.91-10-A-j2...|Oberwil BL, Hüsli...|          22983|           0|2022|   12|  7|\n",
      "|91-10-A-j22-1|     TA+eh|1010.TA.91-10-A-j...|    Basel, Dreispitz|          21575|           0|2022|   12|  7|\n",
      "|91-10-A-j22-1|  TA+8yy00|1011.TA.91-10-A-j...|    Basel, Dreispitz|          21779|           0|2022|   12|  7|\n",
      "|91-10-A-j22-1|  TA+05000|1012.TA.91-10-A-j...|    Basel, Dreispitz|          23637|           0|2022|   12|  7|\n",
      "|91-10-A-j22-1|  TA+8yy00|1013.TA.91-10-A-j...|    Basel, Dreispitz|          21765|           0|2022|   12|  7|\n",
      "|91-10-A-j22-1|  TA+f6n00|1014.TA.91-10-A-j...|    Basel, Dreispitz|          22961|           0|2022|   12|  7|\n",
      "|91-10-A-j22-1|  TA+8i000|1015.TA.91-10-A-j...|    Basel, Dreispitz|          51115|           0|2022|   12|  7|\n",
      "+-------------+----------+--------------------+--------------------+---------------+------------+----+-----+---+\n",
      "only showing top 20 rows"
     ]
    }
   ],
   "source": [
    "trips.show()"
   ]
  },
  {
   "cell_type": "code",
   "execution_count": 9,
   "id": "0292e635-8ab4-443b-a52a-5d1c7dba2d98",
   "metadata": {},
   "outputs": [
    {
     "data": {
      "application/vnd.jupyter.widget-view+json": {
       "model_id": "",
       "version_major": 2,
       "version_minor": 0
      },
      "text/plain": [
       "FloatProgress(value=0.0, bar_style='info', description='Progress:', layout=Layout(height='25px', width='50%'),…"
      ]
     },
     "metadata": {},
     "output_type": "display_data"
    },
    {
     "name": "stdout",
     "output_type": "stream",
     "text": [
      "+----------+------+-------+---------+--------+------+--------+------+----------+--------+----+-----+---+\n",
      "|service_id|monday|tuesday|wednesday|thursday|friday|saturday|sunday|start_date|end_date|year|month|day|\n",
      "+----------+------+-------+---------+--------+------+--------+------+----------+--------+----+-----+---+\n",
      "|        TA|  TRUE|   TRUE|     TRUE|   FALSE| FALSE|   FALSE|  TRUE|  20221211|20221214|2022|   12|  7|\n",
      "|      TA#1|  TRUE|   TRUE|     TRUE|    TRUE|  TRUE|    TRUE|  TRUE|  20211212|20221210|2022|   12|  7|\n",
      "|  TA+00000| FALSE|  FALSE|    FALSE|   FALSE| FALSE|    TRUE| FALSE|  20211212|20221210|2022|   12|  7|\n",
      "|  TA+00010|  TRUE|   TRUE|     TRUE|   FALSE| FALSE|   FALSE|  TRUE|  20211212|20221210|2022|   12|  7|\n",
      "|  TA+001c0|  TRUE|   TRUE|     TRUE|    TRUE|  TRUE|   FALSE| FALSE|  20211212|20221210|2022|   12|  7|\n",
      "|  TA+00200|  TRUE|   TRUE|     TRUE|    TRUE|  TRUE|    TRUE|  TRUE|  20211212|20221210|2022|   12|  7|\n",
      "|  TA+00280|  TRUE|   TRUE|     TRUE|    TRUE|  TRUE|    TRUE|  TRUE|  20211212|20221210|2022|   12|  7|\n",
      "|  TA+002c0|  TRUE|   TRUE|     TRUE|    TRUE|  TRUE|   FALSE| FALSE|  20211212|20221210|2022|   12|  7|\n",
      "|  TA+003c0|  TRUE|   TRUE|     TRUE|    TRUE|  TRUE|   FALSE| FALSE|  20211212|20221210|2022|   12|  7|\n",
      "|  TA+004c0| FALSE|  FALSE|    FALSE|   FALSE| FALSE|    TRUE|  TRUE|  20211212|20221210|2022|   12|  7|\n",
      "|  TA+00500|  TRUE|   TRUE|     TRUE|   FALSE| FALSE|   FALSE|  TRUE|  20221211|20221214|2022|   12|  7|\n",
      "|  TA+005b0| FALSE|  FALSE|    FALSE|   FALSE| FALSE|    TRUE|  TRUE|  20211212|20221210|2022|   12|  7|\n",
      "|  TA+00790| FALSE|  FALSE|    FALSE|   FALSE| FALSE|   FALSE|  TRUE|  20211212|20221210|2022|   12|  7|\n",
      "|  TA+00a30|  TRUE|   TRUE|     TRUE|    TRUE|  TRUE|   FALSE| FALSE|  20211212|20221210|2022|   12|  7|\n",
      "|  TA+00a80|  TRUE|   TRUE|     TRUE|    TRUE|  TRUE|   FALSE| FALSE|  20211212|20221210|2022|   12|  7|\n",
      "|  TA+00ab0|  TRUE|   TRUE|    FALSE|   FALSE| FALSE|    TRUE| FALSE|  20211212|20221210|2022|   12|  7|\n",
      "|  TA+00b30| FALSE|  FALSE|    FALSE|   FALSE| FALSE|    TRUE| FALSE|  20211212|20221210|2022|   12|  7|\n",
      "|  TA+00b50| FALSE|  FALSE|    FALSE|   FALSE| FALSE|    TRUE|  TRUE|  20211212|20221210|2022|   12|  7|\n",
      "|  TA+00b70|  TRUE|   TRUE|     TRUE|    TRUE|  TRUE|    TRUE|  TRUE|  20211212|20221210|2022|   12|  7|\n",
      "|  TA+00c70|  TRUE|   TRUE|     TRUE|    TRUE|  TRUE|   FALSE| FALSE|  20211212|20221210|2022|   12|  7|\n",
      "+----------+------+-------+---------+--------+------+--------+------+----------+--------+----+-----+---+\n",
      "only showing top 20 rows"
     ]
    }
   ],
   "source": [
    "calendar.show()"
   ]
  },
  {
   "cell_type": "code",
   "execution_count": 10,
   "id": "a5da5f66-d2d7-4454-b221-18489861e948",
   "metadata": {},
   "outputs": [
    {
     "data": {
      "application/vnd.jupyter.widget-view+json": {
       "model_id": "",
       "version_major": 2,
       "version_minor": 0
      },
      "text/plain": [
       "FloatProgress(value=0.0, bar_style='info', description='Progress:', layout=Layout(height='25px', width='50%'),…"
      ]
     },
     "metadata": {},
     "output_type": "display_data"
    },
    {
     "name": "stdout",
     "output_type": "stream",
     "text": [
      "+--------------+---------+----------------+---------------+----------+----------+----+-----+---+\n",
      "|      route_id|agency_id|route_short_name|route_long_name|route_desc|route_type|year|month|day|\n",
      "+--------------+---------+----------------+---------------+----------+----------+----+-----+---+\n",
      "|92-A00-5-j23-1|   80_BOD|               1|               |         B|       700|2022|   12|  7|\n",
      "|92-A00-5-j22-1|   80_BOD|               1|               |         B|       700|2022|   12|  7|\n",
      "|92-A00-4-j23-1|   80_BOD|               4|               |         B|       700|2022|   12|  7|\n",
      "|92-A00-4-j22-1|      839|               1|               |       EXB|       702|2022|   12|  7|\n",
      "|92-A00-3-j23-1|   80_BOD|               2|               |         B|       700|2022|   12|  7|\n",
      "|92-A00-3-j22-1|     7090|               3|               |         B|       700|2022|   12|  7|\n",
      "|92-A00-2-j23-1|   80_BOD|               4|               |         B|       700|2022|   12|  7|\n",
      "|92-A00-2-j22-1|     7090|               2|               |         B|       700|2022|   12|  7|\n",
      "|92-A00-1-j23-1|   80_BOD|               1|               |         B|       700|2022|   12|  7|\n",
      "|92-A00-1-j22-1|   sbg034|               4|               |         B|       700|2022|   12|  7|\n",
      "+--------------+---------+----------------+---------------+----------+----------+----+-----+---+\n",
      "only showing top 10 rows"
     ]
    }
   ],
   "source": [
    "routes.show(10)"
   ]
  },
  {
   "cell_type": "code",
   "execution_count": 11,
   "id": "24bddff2-3335-41ea-966b-34201948c012",
   "metadata": {},
   "outputs": [
    {
     "data": {
      "application/vnd.jupyter.widget-view+json": {
       "model_id": "",
       "version_major": 2,
       "version_minor": 0
      },
      "text/plain": [
       "FloatProgress(value=0.0, bar_style='info', description='Progress:', layout=Layout(height='25px', width='50%'),…"
      ]
     },
     "metadata": {},
     "output_type": "display_data"
    },
    {
     "name": "stdout",
     "output_type": "stream",
     "text": [
      "root\n",
      " |-- Date_of_trip: string (nullable = true)\n",
      " |-- Trip_id: string (nullable = true)\n",
      " |-- Operator_id: string (nullable = true)\n",
      " |-- Operator_abk: string (nullable = true)\n",
      " |-- Operator_name: string (nullable = true)\n",
      " |-- Transport_type: string (nullable = true)\n",
      " |-- Train_number(train): string (nullable = true)\n",
      " |-- Service type(train): string (nullable = true)\n",
      " |-- Circulation_id: string (nullable = true)\n",
      " |-- Means_of_transport_text: string (nullable = true)\n",
      " |-- If_additional: string (nullable = true)\n",
      " |-- If_failed: string (nullable = true)\n",
      " |-- Stop_id: string (nullable = true)\n",
      " |-- Stop_name: string (nullable = true)\n",
      " |-- Arrival_time: string (nullable = true)\n",
      " |-- Actual_arrival_time: string (nullable = true)\n",
      " |-- an_prognose_status: string (nullable = true)\n",
      " |-- Departure_time: string (nullable = true)\n",
      " |-- Actual_departure_time: string (nullable = true)\n",
      " |-- ab_prognose_status: string (nullable = true)\n",
      " |-- Not_stop: string (nullable = true)\n",
      " |-- year: integer (nullable = true)\n",
      " |-- month: integer (nullable = true)\n",
      "\n",
      "+------------+--------------+-----------+------------+--------------------+--------------+-------------------+-------------------+--------------+-----------------------+-------------+---------+-------+--------------------+----------------+-------------------+------------------+----------------+---------------------+------------------+--------+----+-----+\n",
      "|Date_of_trip|       Trip_id|Operator_id|Operator_abk|       Operator_name|Transport_type|Train_number(train)|Service type(train)|Circulation_id|Means_of_transport_text|If_additional|If_failed|Stop_id|           Stop_name|    Arrival_time|Actual_arrival_time|an_prognose_status|  Departure_time|Actual_departure_time|ab_prognose_status|Not_stop|year|month|\n",
      "+------------+--------------+-----------+------------+--------------------+--------------+-------------------+-------------------+--------------+-----------------------+-------------+---------+-------+--------------------+----------------+-------------------+------------------+----------------+---------------------+------------------+--------+----+-----+\n",
      "|  13.02.2019|85:886:50902-0|     85:886|        RVBW|Regionale Verkehr...|           Bus|           85:886:4|                  4|              |                    NFB|        false|    false|8572581|Baden, Kantonsschule|13.02.2019 18:55|13.02.2019 18:56:22|              REAL|13.02.2019 18:55|  13.02.2019 18:56:32|              REAL|   false|2019|    2|\n",
      "|  13.02.2019|85:886:50902-0|     85:886|        RVBW|Regionale Verkehr...|           Bus|           85:886:4|                  4|              |                    NFB|        false|    false|8580638|        Baden, Stein|13.02.2019 18:59|13.02.2019 18:59:57|              REAL|13.02.2019 18:59|  13.02.2019 18:59:57|              REAL|   false|2019|    2|\n",
      "|  13.02.2019|85:886:50902-0|     85:886|        RVBW|Regionale Verkehr...|           Bus|           85:886:4|                  4|              |                    NFB|        false|    false|8578914| Baden, Bahnhof West|13.02.2019 19:01|13.02.2019 19:01:23|              REAL|13.02.2019 19:04|  13.02.2019 19:04:24|              REAL|   false|2019|    2|\n",
      "|  13.02.2019|85:886:50902-0|     85:886|        RVBW|Regionale Verkehr...|           Bus|           85:886:4|                  4|              |                    NFB|        false|    false|8590197|        Baden, Trafo|13.02.2019 19:05|13.02.2019 19:05:24|              REAL|13.02.2019 19:05|  13.02.2019 19:05:46|              REAL|   false|2019|    2|\n",
      "|  13.02.2019|85:886:50902-0|     85:886|        RVBW|Regionale Verkehr...|           Bus|           85:886:4|                  4|              |                    NFB|        false|    false|8578668|Baden, Bruggerstr...|13.02.2019 19:06|13.02.2019 19:07:36|              REAL|13.02.2019 19:06|  13.02.2019 19:07:36|              REAL|   false|2019|    2|\n",
      "+------------+--------------+-----------+------------+--------------------+--------------+-------------------+-------------------+--------------+-----------------------+-------------+---------+-------+--------------------+----------------+-------------------+------------------+----------------+---------------------+------------------+--------+----+-----+\n",
      "only showing top 5 rows"
     ]
    }
   ],
   "source": [
    "actual_temp = spark.read.load(\"/data/sbb/part_orc/istdaten\", format=\"orc\", sep=\";\", inferSchema=\"true\", header=\"true\")\n",
    "#Rename the columns, from German to English\n",
    "actual_condition = actual_temp.withColumnRenamed(\"betriebstag\", \"Date_of_trip\")\\\n",
    "                .withColumnRenamed(\"fahrt_bezeichner\", \"Trip_id\")\\\n",
    "                .withColumnRenamed(\"betreiber_id\", \"Operator_id\")\\\n",
    "                .withColumnRenamed(\"betreiber_abk\", \"Operator_abk\")\\\n",
    "                .withColumnRenamed(\"betreiber_name\", \"Operator_name\")\\\n",
    "                .withColumnRenamed(\"produkt_id\", \"Transport_type\")\\\n",
    "                .withColumnRenamed(\"linien_id\", \"Train_number(train)\")\\\n",
    "                .withColumnRenamed(\"linien_text\", \"Service type(train)\")\\\n",
    "                .withColumnRenamed(\"umlauf_id\", \"Circulation_id\")\\\n",
    "                .withColumnRenamed(\"verkehrsmittel_text\", \"Means_of_transport_text\")\\\n",
    "                .withColumnRenamed(\"zusatzfahrt_tf\", \"If_additional\")\\\n",
    "                .withColumnRenamed(\"faellt_aus_tf\", \"If_failed\")\\\n",
    "                .withColumnRenamed(\"bpuic\", \"Stop_id\")\\\n",
    "                .withColumnRenamed(\"haltestellen_name\", \"Stop_name\")\\\n",
    "                .withColumnRenamed(\"ankunftszeit\", \"Arrival_time\")\\\n",
    "                .withColumnRenamed(\"an_prognose\", \"Actual_arrival_time\")\\\n",
    "                .withColumnRenamed(\"abfahrtszeit\", \"Departure_time\")\\\n",
    "                .withColumnRenamed(\"ab_prognose\", \"Actual_departure_time\")\\\n",
    "                .withColumnRenamed(\"durchfahrt_tf\", \"Not_stop\")\n",
    "actual_condition.printSchema()\n",
    "actual_condition.show(5)"
   ]
  },
  {
   "cell_type": "markdown",
   "id": "ae3e62a7-089b-4153-8f49-d1e300148fac",
   "metadata": {},
   "source": [
    "## We first transform the latitude and longtitude into distance and find all stops that are in 15km radius of Zurich HB\n",
    "\n",
    "The **_Haversine formula_** is chosen for this task. It is a mathematical formula used to calculate the distance between two points on the Earth's surface using their latitude and longitude coordinates. It is commonly used in navigation and geographical applications.The Haversine formula takes into account the curvature of the Earth and calculates the distance between two points as the arc length along a great circle. It uses the latitude and longitude coordinates of the two points to calculate the central angle between them. The formula then computes the distance based on the central angle and the radius of the Earth.\n",
    "\n",
    "The formula is as follows:\n",
    "\n",
    "**d = 2 * R * arcsin(sqrt(sin^2((latitude_2 - latitude_1)/2) + cos(latitude_1) * cos(latitude_2) * sin^2((longitude_2 - longitude_1)/2)))**\n",
    "\n",
    "Where:\n",
    "\n",
    "d is the distance between the two points.\n",
    "\n",
    "R is the radius of the Earth (typically in kilometers or miles).\n",
    "\n",
    "latitude_1, longitude_1 are the latitude and longitude coordinates of the first point.\n",
    "\n",
    "latitude_2, longitude_2 are the latitude and longitude coordinates of the second point.\n",
    "\n",
    "By applying the Haversine formula, one can accurately calculate the distance between two points on the Earth's surface using their latitude and longitude values."
   ]
  },
  {
   "cell_type": "code",
   "execution_count": 32,
   "id": "10ba279d-7026-407e-bad4-eff22b312dcb",
   "metadata": {},
   "outputs": [
    {
     "data": {
      "application/vnd.jupyter.widget-view+json": {
       "model_id": "",
       "version_major": 2,
       "version_minor": 0
      },
      "text/plain": [
       "FloatProgress(value=0.0, bar_style='info', description='Progress:', layout=Layout(height='25px', width='50%'),…"
      ]
     },
     "metadata": {},
     "output_type": "display_data"
    },
    {
     "name": "stdout",
     "output_type": "stream",
     "text": [
      "There are 538414 stops that are in 15km radius of Zurich HB\n",
      "+-------------+--------------------+----------------+----------------+-------------+--------------+----+-----+---+\n",
      "|      stop_id|           stop_name|        stop_lat|        stop_lon|location_type|parent_station|year|month|day|\n",
      "+-------------+--------------------+----------------+----------------+-------------+--------------+----+-----+---+\n",
      "|      8500926|Oetwil a.d.L., Sc...|47.4236270123012| 8.4031825286317|         null|          null|2022|   12|  7|\n",
      "|      8502186|Dietikon Stoffelbach|47.3933267759652|8.39896044679575|         null| Parent8502186|2022|   12|  7|\n",
      "|8502186:0:1/2|Dietikon Stoffelbach|47.3933997509195|8.39894248049007|         null| Parent8502186|2022|   12|  7|\n",
      "|      8502187|Rudolfstetten Hof...|47.3646702178563|8.37695172233176|         null| Parent8502187|2022|   12|  7|\n",
      "|8502187:0:1/2|Rudolfstetten Hof...|47.3647371479356|8.37703257070734|         null| Parent8502187|2022|   12|  7|\n",
      "|      8502188|   Zufikon Hammergut|47.3559564133261|8.35459265490691|         null| Parent8502188|2022|   12|  7|\n",
      "|8502188:0:1/2|   Zufikon Hammergut|47.3559016432438|8.35460163805975|         null| Parent8502188|2022|   12|  7|\n",
      "|  8502208:0:3|     Horgen Oberdorf|47.2587475534877|8.58981651208635|         null| Parent8502208|2022|   12|  7|\n",
      "|  8502208:0:4|     Horgen Oberdorf|47.2587475534877|8.58981651208635|         null| Parent8502208|2022|   12|  7|\n",
      "|  8502209:0:1|     Oberrieden Dorf|47.2767299516396|8.57765332313768|         null| Parent8502209|2022|   12|  7|\n",
      "|  8502209:0:2|     Oberrieden Dorf|47.2767299516396|8.57765332313768|         null| Parent8502209|2022|   12|  7|\n",
      "|      8502220|              Urdorf|47.3908820565997|8.43473136141437|         null| Parent8502220|2022|   12|  7|\n",
      "|  8502220:0:1|              Urdorf|47.3908820565997|8.43473136141437|         null| Parent8502220|2022|   12|  7|\n",
      "|  8502220:0:2|              Urdorf|47.3908820565997|8.43473136141437|         null| Parent8502220|2022|   12|  7|\n",
      "|  8502221:0:1|      Birmensdorf ZH|47.3574290986674| 8.4375520714069|         null| Parent8502221|2022|   12|  7|\n",
      "|  8502221:0:2|      Birmensdorf ZH|47.3574290986674| 8.4375520714069|         null| Parent8502221|2022|   12|  7|\n",
      "|  8502222:0:2| Bonstetten-Wettswil|47.3259034425176|8.46819360575248|         null| Parent8502222|2022|   12|  7|\n",
      "|  8502222:0:3| Bonstetten-Wettswil|47.3259034425176|8.46819360575248|         null| Parent8502222|2022|   12|  7|\n",
      "|      8502223|            Hedingen|47.2987820476816|8.44596928562027|         null| Parent8502223|2022|   12|  7|\n",
      "|  8502223:0:1|            Hedingen|47.2987820476816|8.44596928562027|         null| Parent8502223|2022|   12|  7|\n",
      "+-------------+--------------------+----------------+----------------+-------------+--------------+----+-----+---+\n",
      "only showing top 20 rows"
     ]
    }
   ],
   "source": [
    "from math import sin, cos, sqrt, atan2, radians\n",
    "import pyspark.sql.functions as F\n",
    "from pyspark.sql.types import FloatType\n",
    "\n",
    "@F.udf(returnType=FloatType())\n",
    "\n",
    "#Implement the Haversine formula. \n",
    "def distance_calculation(latitude_1, longitude_1, latitude_2, longitude_2):\n",
    "    #Use Haversine formula. \n",
    "    #The Haversine formula calculates the distance between two points on a sphere \n",
    "    #(such as the Earth) based on their latitude and longitude.\n",
    "    radius_of_Earth = 6371.0 #Earth radius, just refer to the actual data \n",
    "    \n",
    "    #First, Convert latitude and longitude from degrees to radians\n",
    "    latitude_1 = radians(float(latitude_1))\n",
    "    latitude_2 = radians(float(latitude_2))\n",
    "    longitude_1 = radians(float(longitude_1))\n",
    "    longitude_2 = radians(float(longitude_2))\n",
    "\n",
    "    ## Haversine formula implementation\n",
    "    delta_latitude = latitude_2 - latitude_1\n",
    "    delta_longitude = longitude_2 - longitude_1\n",
    "\n",
    "    a = cos(latitude_1)*cos(latitude_2)*sin(delta_longitude/2)**2+sin(delta_latitude/2)**2\n",
    "    c = 2*atan2(sqrt(a), sqrt(1-a))\n",
    "\n",
    "    distance = radius_of_Earth * c \n",
    "    return distance\n",
    "\n",
    "stops_in_15 = stops_csv.where(distance_calculation(F.lit(47.378177), F.lit(8.540192), F.col(\"stop_lat\"), F.col(\"stop_lon\")) <=15)\n",
    "\n",
    "print(\"There are \" + str(stops_in_15.distinct().count()) + \" stops that are in 15km radius of Zurich HB\")\n",
    "\n",
    "stops_in_15.show()"
   ]
  },
  {
   "cell_type": "markdown",
   "id": "1b1cc168-a81b-466f-a32a-df10874cb970",
   "metadata": {},
   "source": [
    "## We then see the walking distance."
   ]
  },
  {
   "cell_type": "code",
   "execution_count": 34,
   "id": "7045bb6f-d6f4-422c-80fc-6014e19c2618",
   "metadata": {},
   "outputs": [
    {
     "data": {
      "application/vnd.jupyter.widget-view+json": {
       "model_id": "",
       "version_major": 2,
       "version_minor": 0
      },
      "text/plain": [
       "FloatProgress(value=0.0, bar_style='info', description='Progress:', layout=Layout(height='25px', width='50%'),…"
      ]
     },
     "metadata": {},
     "output_type": "display_data"
    }
   ],
   "source": [
    "walking_df = stops_in_15.select(F.col(\"stop_id\").alias(\"stop_id_1\"), F.col(\"stop_name\").alias(\"stop_name_1\"), F.col(\"stop_lat\").alias(\"stop_lat_1\"), F.col(\"stop_lon\").alias(\"stop_lon_1\")) \\\n",
    "    .crossJoin(stops_in_15.select(F.col(\"stop_id\").alias(\"stop_id_2\"), F.col(\"stop_name\").alias(\"stop_name_2\"), F.col(\"stop_lat\").alias(\"stop_lat_2\"),F.col(\"stop_lon\").alias(\"stop_lon_2\"))) \\\n",
    "    .withColumn(\"distance\", lat_long_dist(F.col(\"stop_lat_1\"), F.col(\"stop_lon_1\"), F.col(\"stop_lat_2\"), F.col(\"stop_lon_2\"))) \\\n",
    "    .select(F.col(\"stop_id_1\"), F.col(\"stop_name_1\"), F.col(\"stop_id_2\"), F.col(\"stop_name_2\"), F.col(\"distance\")) \\\n",
    "    .filter(\"distance<=0.5 and distance>0.0\")\n",
    "\n",
    "walking_df = walking_df.withColumn(\"used_time\", walking_df.distance*1200).select(\"stop_id_1\",\"stop_name_1\",\"stop_id_2\",\"stop_name_2\",\"used_time\")"
   ]
  },
  {
   "cell_type": "markdown",
   "id": "3ab317fd-3131-47cd-b79f-f5305abfeb1b",
   "metadata": {},
   "source": [
    "## According to the requirement of the task, we select only the weekdays.\n",
    "\n",
    "The weekdays filtering can be done in calendar and then we use service_id to join other dataframes to get the transportation methods in weekdays."
   ]
  },
  {
   "cell_type": "code",
   "execution_count": 37,
   "id": "8f94941f-8f53-4d63-9aa4-956d1a884fc6",
   "metadata": {},
   "outputs": [
    {
     "data": {
      "application/vnd.jupyter.widget-view+json": {
       "model_id": "",
       "version_major": 2,
       "version_minor": 0
      },
      "text/plain": [
       "FloatProgress(value=0.0, bar_style='info', description='Progress:', layout=Layout(height='25px', width='50%'),…"
      ]
     },
     "metadata": {},
     "output_type": "display_data"
    }
   ],
   "source": [
    "weekdays_only = calendar.where(\"monday = 1 and tuesday = 1 and wednesday = 1 and thursday = 1 and friday = 1\").select('service_id').distinct()"
   ]
  },
  {
   "cell_type": "markdown",
   "id": "24047ff5-adb1-4503-946c-251ab99d5b04",
   "metadata": {},
   "source": [
    "## We then implement all the joins using primary keys"
   ]
  },
  {
   "cell_type": "code",
   "execution_count": 43,
   "id": "05bb47aa-c848-4222-a9b9-cfeded5abeb6",
   "metadata": {},
   "outputs": [
    {
     "data": {
      "application/vnd.jupyter.widget-view+json": {
       "model_id": "",
       "version_major": 2,
       "version_minor": 0
      },
      "text/plain": [
       "FloatProgress(value=0.0, bar_style='info', description='Progress:', layout=Layout(height='25px', width='50%'),…"
      ]
     },
     "metadata": {},
     "output_type": "display_data"
    }
   ],
   "source": [
    "trips_in_weekdays = trips.join(weekdays_only, \"service_id\")\n",
    "\n",
    "trips_routes_in_weekdays = trips_in_weekdays.join(routes, \"route_id\")\n",
    "\n",
    "stop_times_trips_routes_in_weekdays = stop_times.join(trips_routes_in_weekdays, \"trip_id\")\n",
    "\n",
    "final_df_filtered_and_combined = stop_times_trips_routes_in_weekdays.join(stops_in_15, \"stop_id\")\n",
    "#trips_routes_in_weekdays.show()"
   ]
  },
  {
   "cell_type": "code",
   "execution_count": null,
   "id": "cc0dc05b-a3ca-47f7-80a7-5c3dd4be25c1",
   "metadata": {},
   "outputs": [],
   "source": []
  }
 ],
 "metadata": {
  "kernelspec": {
   "display_name": "PySpark",
   "language": "python",
   "name": "pysparkkernel"
  },
  "language_info": {
   "codemirror_mode": {
    "name": "python",
    "version": 3
   },
   "file_extension": ".py",
   "mimetype": "text/x-python",
   "name": "pyspark",
   "pygments_lexer": "python3"
  }
 },
 "nbformat": 4,
 "nbformat_minor": 5
}
